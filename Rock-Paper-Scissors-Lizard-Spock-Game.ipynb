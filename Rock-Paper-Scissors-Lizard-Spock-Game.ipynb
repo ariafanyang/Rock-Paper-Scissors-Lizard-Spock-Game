{
 "cells": [
  {
   "cell_type": "markdown",
   "metadata": {
    "tags": []
   },
   "source": [
    "# Rock-Paper-Scissors-Lizard-Spock Game in Python\n",
    "\n",
    "## Game Rules\n",
    "\n",
    "It is a straightforward game:\n",
    "\n",
    "1. Two participants choose one among the following weapons:\n",
    "    - Rock (closed fist, in red)\n",
    "    - Paper (open hand, in yellow)\n",
    "    - Scissors (scissor with two fingers, in purple)\n",
    "    - Lizard (puppet-like hand, in green)\n",
    "    - Spock (Vulcan salutation, in blue)\n",
    "2. They show the other participant the weapon.\n",
    "    - The winning outcome is as follows:\n",
    "        + Rock: Wins against Lizard or Scissors (crushes the Lizard and breaks the Scissor)\n",
    "        + Paper: Wins against Spock or Rock (disproves Spock and wraps the Rock)\n",
    "        + Scissors: Wins against Lizard and Paper (kills the Lizard or cuts the Paper)\n",
    "        + Lizard: Wins against Spock and Paper (poisons Spock or eats the Paper)\n",
    "        + Spock: Wins against Rock and Paper (vaporizes the Rock and smashes the Scissors)\n",
    "\n",
    "![rpsls](https://upload.wikimedia.org/wikipedia/commons/a/ad/Pierre_ciseaux_feuille_l%C3%A9zard_spock_aligned.svg)"
   ]
  },
  {
   "cell_type": "code",
   "execution_count": 1,
   "metadata": {
    "tags": []
   },
   "outputs": [],
   "source": [
    "# Some needed packs\n",
    "import time\n",
    "import random\n",
    "\n",
    "# Set of choices\n",
    "actions = ['rock', 'paper', 'scissors', 'lizard', 'spock']"
   ]
  },
  {
   "cell_type": "code",
   "execution_count": 2,
   "metadata": {},
   "outputs": [],
   "source": [
    "def consist():\n",
    "    x = input(\"Please enter your choice: \")\n",
    "    if x == 'help':\n",
    "        return 'help'\n",
    "    elif x in actions:\n",
    "        return 'gameon'\n",
    "    else:\n",
    "        raise ValueError(\"Invalid input\")   \n",
    "\n",
    "def consist(x):\n",
    "    if x == 'help':\n",
    "        return 'help'\n",
    "    elif x in actions:\n",
    "        return 'gameon'\n",
    "    else:\n",
    "        raise ValueError(\"Invalid input\")\n",
    "\n",
    "def opponent():\n",
    "    return random.choice(actions)\n",
    "\n",
    "def rock(play):\n",
    "    if play in ['scissors', 'lizard']:\n",
    "        return True\n",
    "    else:\n",
    "        return False\n",
    "\n",
    "def scissors(play):\n",
    "    if play in ['lizard', 'paper']:\n",
    "        return True\n",
    "    else:\n",
    "        return False\n",
    "\n",
    "def paper(play):\n",
    "    if play in ['spock', 'rock']:\n",
    "        return True\n",
    "    else:\n",
    "        return False\n",
    "\n",
    "def lizard(play):\n",
    "    if play in ['spock', 'paper']:\n",
    "        return True\n",
    "    else:\n",
    "        return False\n",
    "\n",
    "def spock(play):\n",
    "    if play in ['rock', 'paper']:\n",
    "        return True\n",
    "    else:\n",
    "        return False\n",
    "\n",
    "myplays = dict(zip(['rock', 'paper', 'scissors', 'lizard', 'spock'], [rock, paper, scissors, lizard, spock]))"
   ]
  },
  {
   "cell_type": "code",
   "execution_count": 11,
   "metadata": {},
   "outputs": [],
   "source": [
    "def gameon(myplays, you, comp):\n",
    "    if you == comp:\n",
    "        return ('tie', you, comp)\n",
    "    elif myplays[you](comp) == True:\n",
    "        return ('you', you, comp)\n",
    "    else:\n",
    "        return ('computer', you, comp)"
   ]
  },
  {
   "cell_type": "code",
   "execution_count": 12,
   "metadata": {},
   "outputs": [],
   "source": [
    "hooraytext = \"\"\"\n",
    "You choose: {}\n",
    "The computer chose: {}\n",
    "\n",
    "{}\n",
    "\"\"\"\n",
    "def hooray(result):\n",
    "    \n",
    "    if result[0] == 'you':\n",
    "        inspiration = \"Hooray, you won!\"\n",
    "    elif result[0] == 'computer':\n",
    "        inspiration = \"Oh no, you lost... Better luck next time!\"\n",
    "    else:\n",
    "        inspiration = (\"It was a tie. Keep up, you got this!\") \n",
    "    \n",
    "    print(hooraytext.format(result[1], result[2], inspiration))"
   ]
  },
  {
   "cell_type": "markdown",
   "metadata": {},
   "source": [
    "Now, let's play the game!"
   ]
  },
  {
   "cell_type": "code",
   "execution_count": 16,
   "metadata": {},
   "outputs": [
    {
     "name": "stdout",
     "output_type": "stream",
     "text": [
      "Choose a weapon or stop: >> spock\n",
      "\n",
      "\n",
      "Alright. Now shout with me: ...Rock......Paper......Scissors......Lizard......Spock!\n",
      "\n",
      "\n",
      "You choose: spock\n",
      "The computer chose: paper\n",
      "\n",
      "Hooray, you won!\n",
      "\n",
      "None\n"
     ]
    }
   ],
   "source": [
    "# A prompt function for you\n",
    "def myprompt():\n",
    "    x = input(\"Choose a weapon or stop: >> \")\n",
    "    x = x.lower()\n",
    "    if x == 'stop':\n",
    "        print('\\n\\nThanks for playing. See you next time!', end = '\\n\\n')\n",
    "        return None\n",
    "    try:\n",
    "        if consist(x) == 'help':\n",
    "            myhelp()\n",
    "        else:\n",
    "            # And this is why using FP is cool:\n",
    "            print(hooray(gameon(myplays, mythrill(x), opponent())))\n",
    "    except:\n",
    "        print(\"\\nThis selection is invalid. Type 'help' to check your options or 'stop' to stop the game.\\n\")\n",
    "    \n",
    "\n",
    "myprompt()\n",
    "    \n",
    "\n",
    "# A thriller function\n",
    "def mythrill(mychoice):\n",
    "    print('\\n\\nAlright. ', end = '')\n",
    "    time.sleep(1)\n",
    "    print('Now shout with me: ', end = '')\n",
    "    time.sleep(1)\n",
    "    print('...Rock...', end = '')\n",
    "    time.sleep(0.5)\n",
    "    print('...Paper...', end = '')\n",
    "    time.sleep(0.5)\n",
    "    print('...Scissors...', end = '')\n",
    "    time.sleep(0.5)\n",
    "    print('...Lizard...', end = '')\n",
    "    time.sleep(0.5)\n",
    "    print('...Spock!', end = '\\n\\n')\n",
    "    time.sleep(1)\n",
    "    return mychoice\n",
    "\n",
    "# A help function for you\n",
    "def myhelp():\n",
    "    myhelpstr = \"\"\"\n",
    "This is my Rock-Paper-Scissors-Lizard-Spock game.\n",
    "\n",
    "You can select among the following weapons:\n",
    "\n",
    "1. Rock: It wins against Lizard or Scissors (crushes the Lizard and breaks the Scissor)\n",
    "\n",
    "2. Paper: Wins against Spock or Rock (disproves Spock and wraps the Rock)\n",
    "\n",
    "3. Scissors: Wins against Lizard and Paper (kills the Lizard or cuts the Paper)\n",
    "\n",
    "4. Lizard: Wins against Spock and Paper (poisons Spock or eats the Paper)\n",
    "\n",
    "5. Spock: Wins against Rock and Paper (vaporizes the Rock and smashes the Scissors)\n",
    "\n",
    "To choose a weapon, just type its name. No need to type in lower or upper case. The prompt is smart \n",
    "enough to choose the right action here.\n",
    "\n",
    "When you are done, you can leave the game by typing 'stop'.\n",
    "\n",
    "Game on!\n",
    "\"\"\"\n",
    "    print('\\n\\n')\n",
    "    print(myhelpstr, end = '\\n\\n')"
   ]
  }
 ],
 "metadata": {
  "kernelspec": {
   "display_name": "Python 3 (ipykernel)",
   "language": "python",
   "name": "python3"
  },
  "language_info": {
   "codemirror_mode": {
    "name": "ipython",
    "version": 3
   },
   "file_extension": ".py",
   "mimetype": "text/x-python",
   "name": "python",
   "nbconvert_exporter": "python",
   "pygments_lexer": "ipython3",
   "version": "3.9.5"
  },
  "varInspector": {
   "cols": {
    "lenName": 16,
    "lenType": 16,
    "lenVar": 40
   },
   "kernels_config": {
    "python": {
     "delete_cmd_postfix": "",
     "delete_cmd_prefix": "del ",
     "library": "var_list.py",
     "varRefreshCmd": "print(var_dic_list())"
    },
    "r": {
     "delete_cmd_postfix": ") ",
     "delete_cmd_prefix": "rm(",
     "library": "var_list.r",
     "varRefreshCmd": "cat(var_dic_list()) "
    }
   },
   "types_to_exclude": [
    "module",
    "function",
    "builtin_function_or_method",
    "instance",
    "_Feature"
   ],
   "window_display": false
  }
 },
 "nbformat": 4,
 "nbformat_minor": 4
}
